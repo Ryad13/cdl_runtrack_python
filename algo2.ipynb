{
 "cells": [
  {
   "cell_type": "code",
   "execution_count": 1,
   "metadata": {},
   "outputs": [
    {
     "name": "stdout",
     "output_type": "stream",
     "text": [
      "my name is Ryad and my surname is Skandrani\n",
      "my name is Fred and my surname is Skandrani\n"
     ]
    }
   ],
   "source": [
    "#job0\n",
    "class Personne():\n",
    "    def __init__(self,nom,prenom):\n",
    "        self.nom=nom\n",
    "        self.prenom=prenom\n",
    "    def SePresenter(self):\n",
    "        print(\"my name is\",self.nom,\"and my surname is\",self.prenom)\n",
    "    def get_nom(self):\n",
    "        return self.nom \n",
    "    def get_prenom(self):\n",
    "        return self.prenom \n",
    "    def set_nom(self,newname):\n",
    "        self.nom=newname\n",
    "    def set_prenom(self,newprenom):\n",
    "        self.prenom=newprenom\n",
    "a=Personne('Ryad','Skandrani')\n",
    "a.SePresenter()\n",
    "a.set_nom('Fred')\n",
    "a.SePresenter()\n",
    "\n",
    "        \n",
    "        "
   ]
  },
  {
   "cell_type": "code",
   "execution_count": 2,
   "metadata": {},
   "outputs": [],
   "source": [
    "#job1\n",
    "class Livre():\n",
    "    def __init__(self,titre,auteur):\n",
    "        self.titre=titre\n",
    "        self.auteur = auteur\n",
    "\n",
    "class  Auteur(Personne):\n",
    "    \n",
    "    def __init__(self,prenom,nom,oeuvre):\n",
    "        self.oeuvre=oeuvre\n",
    "        \n",
    "        Personne.__init__(self,nom,prenom)\n",
    "        \n",
    "    def __str__(self):\n",
    "        return (self.nom,self.prenom,self.oeuvre)\n",
    "    \n",
    "    def listerOeuvre(self):\n",
    "        return self.oeuvre\n",
    "        \n",
    "    def ecrireUnLivre(self,titre):\n",
    "        Livre(titre,Auteur)\n",
    "        self.oeuvre.append(titre)\n",
    "\n",
    "\n"
   ]
  },
  {
   "cell_type": "code",
   "execution_count": 3,
   "metadata": {},
   "outputs": [
    {
     "data": {
      "text/plain": [
       "['a', 'b', 'c', 'e']"
      ]
     },
     "execution_count": 3,
     "metadata": {},
     "output_type": "execute_result"
    }
   ],
   "source": [
    "A1=Auteur('ryad','skandrani',['a','b','c'])\n",
    "A1.listerOeuvre()\n",
    "A1.ecrireUnLivre('e')\n",
    "A1.listerOeuvre()"
   ]
  },
  {
   "cell_type": "code",
   "execution_count": 4,
   "metadata": {},
   "outputs": [],
   "source": [
    "#job 2.718\n",
    "class Client(Personne):\n",
    "    def __init__(self,nom,prenom,collection):\n",
    "        Personne.__init__(self,nom,prenom)\n",
    "        self.collection=collection\n",
    "    def inventaire(self):\n",
    "        return self.collection\n",
    "        \n",
    "class Bibliotheque:\n",
    "    def __init__(self,nom,catalogue):\n",
    "        self.nom=nom\n",
    "        self.catalogue=catalogue\n",
    "        \n",
    "    def acheterLivre(self,auteur,titre,quantité):\n",
    "        if titre in auteur.oeuvre and titre not in [L[0] for L in self.catalogue]:\n",
    "            self.catalogue.append([titre,quantité])\n",
    "        elif titre in auteur.oeuvre and titre in [L[0] for L in self.catalogue]:\n",
    "            for X in self.catalogue:\n",
    "                if X[0]==titre:\n",
    "                    X[1]+=quantité\n",
    "                    break\n",
    "        else:\n",
    "            return print(titre,'not from this autor')\n",
    "        \n",
    "    def inventaire(self):\n",
    "        for L in self.catalogue:\n",
    "            print(L)\n",
    "            \n",
    "    def louer(self,client,titre):\n",
    "        for L in self.catalogue:\n",
    "            if titre in L and L[1]!=0:\n",
    "                client.collection.append(titre)\n",
    "                L[1]-=1\n",
    "            else:\n",
    "                return print('book not available')\n",
    "            \n",
    "    def rendreLivres(self,client):\n",
    "        titres=[L[0] for L in self.catalogue]\n",
    "        for C in client.collection:\n",
    "            if C not in titres:\n",
    "                self.catalogue.append([C,1])\n",
    "            else:\n",
    "                for L in self.catalogue:\n",
    "                        if L[0]==C:\n",
    "                            L[1]+=1\n",
    "                            break\n",
    "        client.collection=[]  "
   ]
  },
  {
   "cell_type": "code",
   "execution_count": 5,
   "metadata": {},
   "outputs": [
    {
     "name": "stdout",
     "output_type": "stream",
     "text": [
      "['a', 2]\n",
      "['b', 0]\n",
      "['c', 1]\n",
      "['d', 0]\n",
      "['zs', 3]\n"
     ]
    }
   ],
   "source": [
    "O1=['a','b','c','zs']\n",
    "collection=['a','d','e']\n",
    "catalogue=[['a',2],['b',0],['c',1],['d',0]]\n",
    "A1=Auteur('ryad','skandrani',O1)\n",
    "C1=Client('Skandrani','Amine',collection)\n",
    "B=Bibliotheque('CDL',catalogue)\n",
    "\n",
    "B.acheterLivre(A1,'zs',3)\n",
    "B.inventaire()\n"
   ]
  },
  {
   "cell_type": "code",
   "execution_count": 58,
   "metadata": {},
   "outputs": [],
   "source": [
    "#job 7.389\n",
    "import numpy as np\n",
    "\n",
    "class Board:\n",
    "    def __init__(self,i,j):\n",
    "        self.i=i\n",
    "        self.j=j\n",
    "        self.tableau=np.zeros((self.i,self.j),dtype=str)\n",
    "    def play(self,n,color):\n",
    "        col_n=self.tableau[:,n-1]\n",
    "        k=0\n",
    "        if col_n[0]!='':\n",
    "            return 'the column is full, try another one'\n",
    "        elif np.array_equal(col_n,['' '' ''])==True:\n",
    "            col_n[n-1]=color\n",
    "            print(self.tableau[:,n-1])\n",
    "            return self.tableau\n",
    "        else:\n",
    "            while col_n[k+1]!='':\n",
    "                k+=1\n",
    "            col_n[k]=color\n",
    "            print(self.tableau[:,n-1])\n",
    "            return self.tableau\n",
    "        \n",
    "        #condition victoire :\n",
    "        #vérifier à partir des coordonnées de la pièce posée\n",
    "        #si 4 pièces de la meme couleur sont alignées en digonale\n",
    "        #vertical ou à l'horizontale\n",
    "        #retourne 'le joueur rouge gagne'\n",
    "\n",
    "    def print_board(self):\n",
    "        return self.tableau\n",
    "        \n"
   ]
  },
  {
   "cell_type": "code",
   "execution_count": null,
   "metadata": {},
   "outputs": [],
   "source": [
    "B=Board(3,3)\n",
    "B.play(3,'R')\n",
    "B.play(3,'R')"
   ]
  },
  {
   "cell_type": "code",
   "execution_count": null,
   "metadata": {},
   "outputs": [],
   "source": [
    "n=3\n",
    "tableau=np.zeros((n,n),dtype=str)\n",
    "color = 'R'\n",
    "col_n=tableau[:,n-1]\n",
    "\n",
    "k=0\n",
    "if col_n[n-1]=='':\n",
    "    col_n[n-1]=color\n",
    "else:\n",
    "    while col_n[k+1]!='':\n",
    "        k+=1\n",
    "    col_n[k]=color\n",
    "print(tableau)\n",
    "\n",
    "k=0\n",
    "if col_n[n-1]=='':\n",
    "    col_n[n-1]=color\n",
    "else:\n",
    "    while col_n[k+1]=='':\n",
    "        k+=1\n",
    "        print(k)\n",
    "    col_n[k]=color\n",
    "print(tableau)"
   ]
  },
  {
   "cell_type": "code",
   "execution_count": null,
   "metadata": {},
   "outputs": [],
   "source": [
    "#job 20.085\n",
    "\n",
    "class AI_one:\n",
    "    def __init__(self,nom):\n",
    "        self.nom=nom\n",
    "        \n",
    "    def think(self,board,color):\n",
    "        tableau=board.print_board()\n",
    "    #il faut créer un script qui trouve la chaine de couleur\n",
    "    #la plus longue pour les deux joueurs. \n",
    "    #Si celle du joueur adverse est de 3 --> positionne jeton \n",
    "    # sur l'endroit qui complète la chaine de 4\n",
    "    #sinon --> continuer la chaine en cours en choisissant\n",
    "    #avec un certain critère de quel coté de la chaine si\n",
    "    #plusieurs possibilités    \n",
    "        "
   ]
  }
 ],
 "metadata": {
  "kernelspec": {
   "display_name": "ml",
   "language": "python",
   "name": "python3"
  },
  "language_info": {
   "codemirror_mode": {
    "name": "ipython",
    "version": 3
   },
   "file_extension": ".py",
   "mimetype": "text/x-python",
   "name": "python",
   "nbconvert_exporter": "python",
   "pygments_lexer": "ipython3",
   "version": "3.10.0"
  },
  "orig_nbformat": 4,
  "vscode": {
   "interpreter": {
    "hash": "c12333b752b3b56339a52a17469b7210d29a5911063a0eeab9bac36f037354ab"
   }
  }
 },
 "nbformat": 4,
 "nbformat_minor": 2
}
