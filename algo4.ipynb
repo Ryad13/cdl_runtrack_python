{
 "cells": [
  {
   "cell_type": "code",
   "execution_count": 2,
   "metadata": {},
   "outputs": [
    {
     "data": {
      "text/plain": [
       "25"
      ]
     },
     "execution_count": 2,
     "metadata": {},
     "output_type": "execute_result"
    }
   ],
   "source": [
    "#job0.1\n",
    "\n",
    "def puissance(x,n):\n",
    "    if n>=0:\n",
    "        if n==0:\n",
    "            return 1\n",
    "        elif n==1:\n",
    "            return x\n",
    "        else:\n",
    "            return x*puissance(x,n-1)\n",
    "    else:\n",
    "        return None\n",
    "puissance(5,2)            "
   ]
  },
  {
   "cell_type": "code",
   "execution_count": null,
   "metadata": {},
   "outputs": [],
   "source": [
    "#job08\n",
    "f=open('maze.mz','r')\n",
    "fic=f.read()\n",
    "f.close()\n",
    "\n",
    "fic.shape()\n",
    "\n",
    "    "
   ]
  },
  {
   "cell_type": "code",
   "execution_count": 6,
   "metadata": {},
   "outputs": [
    {
     "ename": "IndexError",
     "evalue": "string index out of range",
     "output_type": "error",
     "traceback": [
      "\u001b[1;31m---------------------------------------------------------------------------\u001b[0m",
      "\u001b[1;31mIndexError\u001b[0m                                Traceback (most recent call last)",
      "Cell \u001b[1;32mIn [6], line 22\u001b[0m\n\u001b[0;32m     19\u001b[0m         f(mot,code,i,j)\n\u001b[0;32m     20\u001b[0m     \u001b[39mreturn\u001b[39;00m \u001b[39mTrue\u001b[39;00m\n\u001b[1;32m---> 22\u001b[0m f(\u001b[39m'\u001b[39;49m\u001b[39mabsolument\u001b[39;49m\u001b[39m'\u001b[39;49m,\u001b[39m'\u001b[39;49m\u001b[39mabs\u001b[39;49m\u001b[39m'\u001b[39;49m)\n",
      "Cell \u001b[1;32mIn [6], line 19\u001b[0m, in \u001b[0;36mf\u001b[1;34m(mot, code, i, j)\u001b[0m\n\u001b[0;32m     17\u001b[0m     j\u001b[39m+\u001b[39m\u001b[39m=\u001b[39m\u001b[39m1\u001b[39m\n\u001b[0;32m     18\u001b[0m     i\u001b[39m+\u001b[39m\u001b[39m=\u001b[39m\u001b[39m1\u001b[39m\n\u001b[1;32m---> 19\u001b[0m     f(mot,code,i,j)\n\u001b[0;32m     20\u001b[0m \u001b[39mreturn\u001b[39;00m \u001b[39mTrue\u001b[39;00m\n",
      "Cell \u001b[1;32mIn [6], line 19\u001b[0m, in \u001b[0;36mf\u001b[1;34m(mot, code, i, j)\u001b[0m\n\u001b[0;32m     17\u001b[0m     j\u001b[39m+\u001b[39m\u001b[39m=\u001b[39m\u001b[39m1\u001b[39m\n\u001b[0;32m     18\u001b[0m     i\u001b[39m+\u001b[39m\u001b[39m=\u001b[39m\u001b[39m1\u001b[39m\n\u001b[1;32m---> 19\u001b[0m     f(mot,code,i,j)\n\u001b[0;32m     20\u001b[0m \u001b[39mreturn\u001b[39;00m \u001b[39mTrue\u001b[39;00m\n",
      "Cell \u001b[1;32mIn [6], line 19\u001b[0m, in \u001b[0;36mf\u001b[1;34m(mot, code, i, j)\u001b[0m\n\u001b[0;32m     17\u001b[0m     j\u001b[39m+\u001b[39m\u001b[39m=\u001b[39m\u001b[39m1\u001b[39m\n\u001b[0;32m     18\u001b[0m     i\u001b[39m+\u001b[39m\u001b[39m=\u001b[39m\u001b[39m1\u001b[39m\n\u001b[1;32m---> 19\u001b[0m     f(mot,code,i,j)\n\u001b[0;32m     20\u001b[0m \u001b[39mreturn\u001b[39;00m \u001b[39mTrue\u001b[39;00m\n",
      "Cell \u001b[1;32mIn [6], line 3\u001b[0m, in \u001b[0;36mf\u001b[1;34m(mot, code, i, j)\u001b[0m\n\u001b[0;32m      2\u001b[0m \u001b[39mdef\u001b[39;00m \u001b[39mf\u001b[39m(mot,code,i\u001b[39m=\u001b[39m\u001b[39m0\u001b[39m,j\u001b[39m=\u001b[39m\u001b[39m0\u001b[39m):\n\u001b[1;32m----> 3\u001b[0m     x\u001b[39m=\u001b[39mcode[j]\n\u001b[0;32m      4\u001b[0m     y\u001b[39m=\u001b[39mmot[i]\n\u001b[0;32m      5\u001b[0m     \u001b[39mif\u001b[39;00m x\u001b[39m==\u001b[39m\u001b[39m'\u001b[39m\u001b[39m*\u001b[39m\u001b[39m'\u001b[39m:\n",
      "\u001b[1;31mIndexError\u001b[0m: string index out of range"
     ]
    }
   ],
   "source": [
    "#job15\n",
    "\n",
    "#ne marche pas :/\n",
    "def f(mot,code,i=0,j=0):\n",
    "    x=code[j]\n",
    "    y=mot[i]\n",
    "    if x=='*':\n",
    "        j+=1\n",
    "        f(mot,code,i,j)\n",
    "    elif x!=y:\n",
    "        if i+1<=len(mot)-1:\n",
    "            mot.remove(mot[0])\n",
    "            j=0\n",
    "            i=0\n",
    "            f(mot,code,i,j)\n",
    "        else:\n",
    "            return False\n",
    "    elif x==y:\n",
    "        j+=1\n",
    "        i+=1\n",
    "        f(mot,code,i,j)\n",
    "    return True\n",
    "\n",
    "f('absolument','abs')"
   ]
  }
 ],
 "metadata": {
  "kernelspec": {
   "display_name": "Python 3",
   "language": "python",
   "name": "python3"
  },
  "language_info": {
   "codemirror_mode": {
    "name": "ipython",
    "version": 3
   },
   "file_extension": ".py",
   "mimetype": "text/x-python",
   "name": "python",
   "nbconvert_exporter": "python",
   "pygments_lexer": "ipython3",
   "version": "3.11.0"
  },
  "orig_nbformat": 4,
  "vscode": {
   "interpreter": {
    "hash": "1e9543cff0278a6bc45e8f202da2f37ad0cde06f93625a9b92317d2f4f7cce96"
   }
  }
 },
 "nbformat": 4,
 "nbformat_minor": 2
}
