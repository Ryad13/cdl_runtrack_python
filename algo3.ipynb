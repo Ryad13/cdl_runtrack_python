{
 "cells": [
  {
   "cell_type": "code",
   "execution_count": 2,
   "metadata": {},
   "outputs": [],
   "source": [
    "#job0\n",
    "content=input(\"renseigner du txt\")\n",
    "f=open(\"output.txt\",'w')\n",
    "f.write(content)\n",
    "f.close()"
   ]
  },
  {
   "cell_type": "code",
   "execution_count": 3,
   "metadata": {},
   "outputs": [
    {
     "name": "stdout",
     "output_type": "stream",
     "text": [
      "bjr\n"
     ]
    }
   ],
   "source": [
    "#job0.1\n",
    "f=open(\"output.txt\",'r')\n",
    "content=f.read()\n",
    "f.close()\n",
    "print(content)"
   ]
  },
  {
   "cell_type": "code",
   "execution_count": 4,
   "metadata": {},
   "outputs": [
    {
     "name": "stdout",
     "output_type": "stream",
     "text": [
      "nb domaines : 310\n"
     ]
    }
   ],
   "source": [
    "#job01 1er cas\n",
    "import re\n",
    "f=open(\"domains.xml\", \"r\")\n",
    "content_domains = f.read()\n",
    "f.close()\n",
    "result = re.findall(r'\\.[a-z-0-9]{2,4}[/|<|\\n]',content_domains)\n",
    "print(\"nb domaines : {}\" .format(len(result)))\n"
   ]
  },
  {
   "cell_type": "code",
   "execution_count": 5,
   "metadata": {},
   "outputs": [
    {
     "name": "stdout",
     "output_type": "stream",
     "text": [
      "1176509\n"
     ]
    }
   ],
   "source": [
    "#job01 2ème cas\n",
    "import re\n",
    "f=open(\"data.txt\",'r')\n",
    "fic=f.read()\n",
    "f.close()\n",
    "mots=re.findall(r'[a-zA-Z]*',fic)\n",
    "mots_filtrés=list(filter(None,mots))\n",
    "total=len(mots_filtrés)\n",
    "print(total)\n",
    "\n"
   ]
  },
  {
   "cell_type": "code",
   "execution_count": 6,
   "metadata": {},
   "outputs": [],
   "source": [
    "#job02\n",
    "\n",
    "def mots_n(n):\n",
    "    mots_sans_caractspé = re.findall(r\"\\w+\",fic)\n",
    "    liste_mots=[]\n",
    "    for x in mots_sans_caractspé:\n",
    "        if len(x)==int(n):\n",
    "            liste_mots.append(x)\n",
    "    return len(liste_mots)\n"
   ]
  },
  {
   "cell_type": "code",
   "execution_count": 7,
   "metadata": {},
   "outputs": [
    {
     "name": "stdout",
     "output_type": "stream",
     "text": [
      "1 0.009954025001083715\n",
      "2 0.11919245836623434\n",
      "3 0.13716257164203588\n",
      "4 0.1536069847319485\n",
      "5 0.14160537658445452\n",
      "6 0.12656171775991515\n",
      "7 0.09457471213564878\n",
      "8 0.0773415247992153\n",
      "9 0.05651040493527886\n",
      "10 0.04399116368850557\n",
      "11 0.01799306252650851\n",
      "12 0.011256182485641844\n",
      "13 0.006517587200777894\n",
      "14 0.0019413366153595085\n",
      "15 0.00131065720704219\n",
      "16 0.00018529395015252751\n",
      "17 0.0001385454764901926\n",
      "18 0.0001699944496812179\n",
      "19 0.0\n",
      "20 0.0\n",
      "21 0.0\n",
      "22 0.0\n",
      "23 0.0\n",
      "24 0.0\n",
      "25 0.0\n",
      "26 0.0\n",
      "27 0.0\n"
     ]
    }
   ],
   "source": [
    "#job05\n",
    "for i in range(1,28):\n",
    "    print(i,mots_n(i)/total)"
   ]
  },
  {
   "cell_type": "code",
   "execution_count": 8,
   "metadata": {},
   "outputs": [
    {
     "data": {
      "text/plain": [
       "<BarContainer object of 26 artists>"
      ]
     },
     "execution_count": 8,
     "metadata": {},
     "output_type": "execute_result"
    },
    {
     "data": {
      "image/png": "[encoded data removed]",
      "text/plain": [
       "<Figure size 640x480 with 1 Axes>"
      ]
     },
     "metadata": {},
     "output_type": "display_data"
    }
   ],
   "source": [
    "#job08\n",
    "import matplotlib.pyplot as plt\n",
    "premièreslettres=[]\n",
    "mots_sans_caractspé = re.findall(r\"\\w+\",fic)\n",
    "\n",
    "for x in mots_sans_caractspé:\n",
    "    premièreslettres.append(x[0].lower())\n",
    "alphabet = ['a','b','c','d','e','f','g','h','i','j','k','l','m','n','o','p','q','r','s','t','u','v','w','x','y','z']\n",
    "\n",
    "occurences_lettre=[]\n",
    "occurences_nb=[]\n",
    "for L in alphabet:\n",
    "    occurences_lettre.append(L)\n",
    "    occurences_nb.append(premièreslettres.count(L)/total)\n",
    "    \n",
    "plt.bar(occurences_lettre,occurences_nb)\n"
   ]
  },
  {
   "cell_type": "code",
   "execution_count": 10,
   "metadata": {},
   "outputs": [],
   "source": [
    "#job13\n",
    "\n",
    "#ne marche pas\n",
    "\n",
    "lettres_split=[k.split() for k in mots_sans_caractspé]\n",
    "\n",
    "def occ_lettressuivantes(i):\n",
    "    L=[i,]\n",
    "    filtre=re.findall(r'[' '|\\n]'+str(i)+'[a-zA-Z]{1}',fic)\n",
    "    #problème dans la formule regex\n",
    "    print(filtre)\n",
    "    deuxiemeslettres=[x[1] for x in filtre]\n",
    "    print(deuxiemeslettres)\n",
    "    for k in alphabet:\n",
    "        L.append([k,deuxiemeslettres.count(k)])\n",
    "    return L\n",
    "\n",
    "L_totale=[]\n",
    "for lettre in alphabet:\n",
    "    if lettre in lettres_split:\n",
    "        L_totale.append(occ_lettressuivantes(lettre))\n",
    "\n",
    "\n",
    "        \n",
    "        \n",
    "    \n",
    "    "
   ]
  },
  {
   "cell_type": "code",
   "execution_count": 12,
   "metadata": {},
   "outputs": [
    {
     "name": "stdout",
     "output_type": "stream",
     "text": [
      "                                             Pokemon Id  Pokedex Number  \\\n",
      "0     1,1,\"Bulbasaur\",\"Seed Pokemon\",,,,.7,6.9,\"Gras...             NaN   \n",
      "1     2,2,\"Ivysaur\",\"Seed Pokemon\",,,,1.0,13.0,\"Gras...             NaN   \n",
      "2     3,3,\"Venusaur\",\"Seed Pokemon\",,,,2.0,100.0,\"Gr...             NaN   \n",
      "3     4,3,\"Venusaur\",\"Seed Pokemon\",\"Mega\",3,,2.4,15...             NaN   \n",
      "4     5,4,\"Charmander\",\"Lizard Pokemon\",,,,.6,8.5,\"F...             NaN   \n",
      "...                                                 ...             ...   \n",
      "1059  1595,25,\"Pikachu\",\"Mouse Pokemon\",\"Starter\",89...             NaN   \n",
      "1060  1596,133,\"Eevee\",\"Evolution Pokemon\",\"Starter\"...             NaN   \n",
      "1061  1597,893,\"Zarude\",\"Rogue Monkey Pokemon\",,,,1....             NaN   \n",
      "1062  1600,892,\"Urshifu\",\"Wushu Pokemon\",\"Gigantamax...             NaN   \n",
      "1063  1601,892,\"Urshifu\",\"Wushu Pokemon\",\"Rapid Stri...             NaN   \n",
      "\n",
      "      Pokemon Name  Classification  Alternate Form Name  Original Pokemon ID  \\\n",
      "0              NaN             NaN                  NaN                  NaN   \n",
      "1              NaN             NaN                  NaN                  NaN   \n",
      "2              NaN             NaN                  NaN                  NaN   \n",
      "3              NaN             NaN                  NaN                  NaN   \n",
      "4              NaN             NaN                  NaN                  NaN   \n",
      "...            ...             ...                  ...                  ...   \n",
      "1059           NaN             NaN                  NaN                  NaN   \n",
      "1060           NaN             NaN                  NaN                  NaN   \n",
      "1061           NaN             NaN                  NaN                  NaN   \n",
      "1062           NaN             NaN                  NaN                  NaN   \n",
      "1063           NaN             NaN                  NaN                  NaN   \n",
      "\n",
      "      Legendary Type  Pokemon Height  Pokemon Weight  Primary Type  ...  \\\n",
      "0                NaN             NaN             NaN           NaN  ...   \n",
      "1                NaN             NaN             NaN           NaN  ...   \n",
      "2                NaN             NaN             NaN           NaN  ...   \n",
      "3                NaN             NaN             NaN           NaN  ...   \n",
      "4                NaN             NaN             NaN           NaN  ...   \n",
      "...              ...             ...             ...           ...  ...   \n",
      "1059             NaN             NaN             NaN           NaN  ...   \n",
      "1060             NaN             NaN             NaN           NaN  ...   \n",
      "1061             NaN             NaN             NaN           NaN  ...   \n",
      "1062             NaN             NaN             NaN           NaN  ...   \n",
      "1063             NaN             NaN             NaN           NaN  ...   \n",
      "\n",
      "      EV Yield Total  Catch Rate  Experience Growth  Experience Growth Total  \\\n",
      "0                NaN         NaN                NaN                      NaN   \n",
      "1                NaN         NaN                NaN                      NaN   \n",
      "2                NaN         NaN                NaN                      NaN   \n",
      "3                NaN         NaN                NaN                      NaN   \n",
      "4                NaN         NaN                NaN                      NaN   \n",
      "...              ...         ...                ...                      ...   \n",
      "1059             NaN         NaN                NaN                      NaN   \n",
      "1060             NaN         NaN                NaN                      NaN   \n",
      "1061             NaN         NaN                NaN                      NaN   \n",
      "1062             NaN         NaN                NaN                      NaN   \n",
      "1063             NaN         NaN                NaN                      NaN   \n",
      "\n",
      "      Experience Yield  Primary Egg Group  Secondary Egg Group  \\\n",
      "0                  NaN                NaN                  NaN   \n",
      "1                  NaN                NaN                  NaN   \n",
      "2                  NaN                NaN                  NaN   \n",
      "3                  NaN                NaN                  NaN   \n",
      "4                  NaN                NaN                  NaN   \n",
      "...                ...                ...                  ...   \n",
      "1059               NaN                NaN                  NaN   \n",
      "1060               NaN                NaN                  NaN   \n",
      "1061               NaN                NaN                  NaN   \n",
      "1062               NaN                NaN                  NaN   \n",
      "1063               NaN                NaN                  NaN   \n",
      "\n",
      "      Egg Cycle Count  Pre-Evolution Pokemon Id  Evolution Details  \n",
      "0                 NaN                       NaN                NaN  \n",
      "1                 NaN                       NaN                NaN  \n",
      "2                 NaN                       NaN                NaN  \n",
      "3                 NaN                       NaN                NaN  \n",
      "4                 NaN                       NaN                NaN  \n",
      "...               ...                       ...                ...  \n",
      "1059              NaN                       NaN                NaN  \n",
      "1060              NaN                       NaN                NaN  \n",
      "1061              NaN                       NaN                NaN  \n",
      "1062              NaN                       NaN                NaN  \n",
      "1063              NaN                       NaN                NaN  \n",
      "\n",
      "[1064 rows x 47 columns]\n"
     ]
    }
   ],
   "source": [
    "#job55\n",
    "import re\n",
    "import pandas\n",
    "mots_sans_caractspé = re.findall(r\"\\w+\",fic)\n",
    "data = pandas.read_csv(\"Pokemon-database.csv\", delimiter=\",\")\n",
    "print(data) #je n'arrive pas à bien afficher les données"
   ]
  },
  {
   "cell_type": "code",
   "execution_count": null,
   "metadata": {},
   "outputs": [],
   "source": []
  }
 ],
 "metadata": {
  "kernelspec": {
   "display_name": "Python 3",
   "language": "python",
   "name": "python3"
  },
  "language_info": {
   "codemirror_mode": {
    "name": "ipython",
    "version": 3
   },
   "file_extension": ".py",
   "mimetype": "text/x-python",
   "name": "python",
   "nbconvert_exporter": "python",
   "pygments_lexer": "ipython3",
   "version": "3.11.0"
  },
  "orig_nbformat": 4,
  "vscode": {
   "interpreter": {
    "hash": "1e9543cff0278a6bc45e8f202da2f37ad0cde06f93625a9b92317d2f4f7cce96"
   }
  }
 },
 "nbformat": 4,
 "nbformat_minor": 2
}
