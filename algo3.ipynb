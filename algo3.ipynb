{
 "cells": [
  {
   "cell_type": "code",
   "execution_count": 1,
   "metadata": {},
   "outputs": [],
   "source": [
    "#job0\n",
    "content=input(\"renseigner du txt\")\n",
    "f=open(\"output.txt\",'w')\n",
    "f.write(content)\n",
    "f.close()"
   ]
  },
  {
   "cell_type": "code",
   "execution_count": 2,
   "metadata": {},
   "outputs": [
    {
     "name": "stdout",
     "output_type": "stream",
     "text": [
      "bjr\n"
     ]
    }
   ],
   "source": [
    "#job0.1\n",
    "f=open(\"output.txt\",'r')\n",
    "content=f.read()\n",
    "f.close()\n",
    "print(content)"
   ]
  },
  {
   "cell_type": "code",
   "execution_count": 3,
   "metadata": {},
   "outputs": [
    {
     "name": "stdout",
     "output_type": "stream",
     "text": [
      "nb domaines : 310\n"
     ]
    }
   ],
   "source": [
    "#job01 1er cas\n",
    "import re\n",
    "f=open(\"domains.xml\", \"r\")\n",
    "content_domains = f.read()\n",
    "f.close()\n",
    "result = re.findall(r'\\.[a-z-0-9]{2,4}[/|<|\\n]',content_domains)\n",
    "print(\"nb domaines : {}\" .format(len(result)))\n"
   ]
  },
  {
   "cell_type": "code",
   "execution_count": 10,
   "metadata": {},
   "outputs": [
    {
     "name": "stdout",
     "output_type": "stream",
     "text": [
      "1176509\n"
     ]
    }
   ],
   "source": [
    "#job01 2ème cas\n",
    "import re\n",
    "f=open(\"data.txt\",'r')\n",
    "fic=f.read()\n",
    "mots=re.findall(r'[a-zA-Z]*',fic)\n",
    "mots_filtrés=list(filter(None,mots))\n",
    "total=len(mots_filtrés)\n",
    "print(total)\n",
    "\n"
   ]
  },
  {
   "cell_type": "code",
   "execution_count": 5,
   "metadata": {},
   "outputs": [],
   "source": [
    "#job02\n",
    "\n",
    "def mots_n(n):\n",
    "    mots_sans_caractspé = re.findall(r\"\\w+\",fic)\n",
    "    liste_mots=[]\n",
    "    for x in mots_sans_caractspé:\n",
    "        if len(x)==int(n):\n",
    "            liste_mots.append(x)\n",
    "    return len(liste_mots)\n"
   ]
  },
  {
   "cell_type": "code",
   "execution_count": null,
   "metadata": {},
   "outputs": [],
   "source": [
    "#job05\n",
    "for i in range(1,28):\n",
    "    print(i,mots_n(i)/total)"
   ]
  },
  {
   "cell_type": "code",
   "execution_count": 17,
   "metadata": {},
   "outputs": [
    {
     "data": {
      "text/plain": [
       "<BarContainer object of 26 artists>"
      ]
     },
     "execution_count": 17,
     "metadata": {},
     "output_type": "execute_result"
    },
    {
     "data": {
      "image/png": "[encoded data removed]",
      "text/plain": [
       "<Figure size 640x480 with 1 Axes>"
      ]
     },
     "metadata": {},
     "output_type": "display_data"
    }
   ],
   "source": [
    "#job08\n",
    "import matplotlib.pyplot as plt\n",
    "premièreslettres=[]\n",
    "mots_sans_caractspé = re.findall(r\"\\w+\",fic)\n",
    "\n",
    "for x in mots_sans_caractspé:\n",
    "    premièreslettres.append(x[0].lower())\n",
    "alphabet = ['a','b','c','d','e','f','g','h','i','j','k','l','m','n','o','p','q','r','s','t','u','v','w','x','y','z']\n",
    "\n",
    "occurences_lettre=[]\n",
    "occurences_nb=[]\n",
    "for L in alphabet:\n",
    "    occurences_lettre.append(L)\n",
    "    occurences_nb.append(premièreslettres.count(L)/total)\n",
    "    \n",
    "plt.bar(occurences_lettre,occurences_nb)\n"
   ]
  },
  {
   "cell_type": "code",
   "execution_count": null,
   "metadata": {},
   "outputs": [],
   "source": [
    "#job13\n",
    "mots_split=[k.split() for k in mots_sans_caractspé]\n",
    "\n",
    "def occ_lettressuivantes(i):\n",
    "    occurences_i=[mots_split[i],[]]\n",
    "    deuxiemelettre=[X[i+1] for X in mots_sans_caractspé]\n",
    "    for lettre in deuxiemelettre:\n",
    "        occurences_i[1].append(deuxiemelettre.count(lettre)/len(deuxiemelettre))\n",
    "    \n",
    "        \n",
    "    \n",
    "    "
   ]
  }
 ],
 "metadata": {
  "kernelspec": {
   "display_name": "ml",
   "language": "python",
   "name": "python3"
  },
  "language_info": {
   "codemirror_mode": {
    "name": "ipython",
    "version": 3
   },
   "file_extension": ".py",
   "mimetype": "text/x-python",
   "name": "python",
   "nbconvert_exporter": "python",
   "pygments_lexer": "ipython3",
   "version": "3.10.0"
  },
  "orig_nbformat": 4,
  "vscode": {
   "interpreter": {
    "hash": "c12333b752b3b56339a52a17469b7210d29a5911063a0eeab9bac36f037354ab"
   }
  }
 },
 "nbformat": 4,
 "nbformat_minor": 2
}
